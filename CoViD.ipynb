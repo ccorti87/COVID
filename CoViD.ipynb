{
 "cells": [
  {
   "cell_type": "code",
   "execution_count": 1,
   "metadata": {},
   "outputs": [],
   "source": [
    "%jsroot on"
   ]
  },
  {
   "cell_type": "markdown",
   "metadata": {},
   "source": [
    "# Population pyramid parametrization\n",
    "For the sake of simplicity, males and females are assumed to be evenly distributed among all ages, *i.e.* the population pyramid is assumed to be gender-symmetric.  \n",
    "The pyramid is parametrized with a piecewise linear function, for ages ($x$) between 0 and 100 years:\n",
    "\n",
    "$$\n",
    "\\mathrm{Pop}(x) = \\begin{cases}\n",
    "m_{1}x, & 0 \\leq x < x_{1} \\\\\n",
    "m_{2}x+q_{2}, & x_{1} \\leq x < x_{2} \\\\\n",
    "\\cdots, & \\cdots \\\\\n",
    "m_{n}(x-100), & x_{n-1} \\leq x \\leq 100\n",
    "\\end{cases}\n",
    "$$\n",
    "\n",
    "The pyramid can be defined by specifying couples $\\{ \\mathrm{age}, \\mathrm{weight} \\} = \\{ a_{i}, w_{i} \\}$, in ascending order of age (*i.e.* $a_{i+1} > a_{i}$ for all couples), where $w_{i}$ is the relative importance of the given age with respect to the other given ages.  \n",
    "For example: $\\{ 5, 1 \\}$ and $\\{ 50, 2 \\}$ specifies a pyramid in which people of age 50 are twice more abundant than people of age 5.  \n",
    "Requiring $\\mathrm{Pop}(a_{i}) = w_{i}$ and continuity at all $x = a_{i}$, we can find the values of the parameters $m_{i}$ and $q_{i}$.\n",
    "\n",
    "## Derivation details\n",
    "One couple $\\{ a_{1}, w_{1} \\}$ defines two straight-line segments:\n",
    "\n",
    "$$\n",
    "\\mathrm{Pop}(x) = \\begin{cases}\n",
    "m_{1}x, & 0 \\leq x < a_{1} \\\\\n",
    "m_{2}(x-100), & a_{1} \\leq x \\leq 100\n",
    "\\end{cases}\n",
    "$$\n",
    "\n",
    "Requiring $\\mathrm{Pop}(a_{1}) = w_{1}$ we get $m_{1}a_{1} = w_{1}$, whence $m_{1} = w_{1}/a_{1}$.  \n",
    "Continuity in $x = a_{1}$ requires $m_{1}a_{1} = m_{2}(a_{1}-100)$, whence $m_{2} = m_{1}a_{1}/(a_{1}-100) = w_{1}/(a_{1}-100)$.  \n",
    "The normalization of the distribution is $\\int_{0}^{100}\\mathrm{Pop}(x)\\,dx = \n",
    "m_{1}a_{1}^{2}/2 - m_{2}(a_{1}-100)^{2}/2 = \n",
    "(1/2)[w_{1}a_{1} - w_{1}(a_{1}-100)^{2}/(a_{1}-100)] =$\n",
    "$(1/2)w_{1}[a_{1} - (a_{1}-100)] = 50w_{1}$.\n",
    "\n",
    "Two couples $\\{ a_{1}, w_{1} \\}$ and $\\{ a_{2}, w_{2} \\}$ define three straight-line segments:\n",
    "\n",
    "$$\n",
    "\\mathrm{Pop}(x) = \\begin{cases}\n",
    "m_{1}x, & 0 \\leq x < a_{1} \\\\\n",
    "m_{2}x+q_{2}, & a_{1} \\leq x < a_{2} \\\\\n",
    "m_{3}(x-100), & a_{2} \\leq x \\leq 100\n",
    "\\end{cases}\n",
    "$$\n",
    "\n",
    "Requiring $\\mathrm{Pop}(a_{1}) = w_{1}$ and $\\mathrm{Pop}(a_{2}) = w_{2}$, and continuity in $x = a_{1}$ and $x = a_{2}$, we get $m_{1} = w_{1}/a_{1}$, $m_{2} = (w_{2}-w{1})/(a_{2}-a_{1})$, $m_{3} = w_{2}/(a_{2}-100)$, and $q_{2} = w_{2} - m_{2}a_{2} = (w_{1}a_{2}-w_{2}a_{1})/(a_{2}-a_{1})$.  \n",
    "The normalization is $\\int_{0}^{100}\\mathrm{Pop}(x)\\,dx = \n",
    "m_{1}a_{1}^{2}/2 + (a_{2}-a_{1})[m_{2}(a_{2}+a_{1})+2q_{2}]/2 - m_{3}(a_{2}-100)^{2}/2 =$\n",
    "$(1/2)\\{w_{1}a_{1} + (a_{2}-a_{1})[(w_{2}-w_{1})(a_{2}+a_{1})/(a_{2}-a_{1})+2(w_{1}a_{2} - w_{2}a_{1})/(a_{2}-a_{1})] - w_{2}(a_{2}-100)^{2}/(a_{2}-100)\\} = \n",
    "(1/2)\\{w_{1}a_{1} + w_{2}a_{2} - w_{1}a_{2} + w_{2}a_{1} - w_{1}a_{1} + 2w_{1}a_{2} - 2w_{2}a_{1} - w_{2}a_{2} + 100w_{2}\\} =$\n",
    "$(1/2)\\{w_{1}a_{2} + w_{2}(100-a_{1})\\}$.\n",
    "\n",
    "In the general case of $n$ couples $\\{ a_{i}, w_{i} \\}$, there are $n+1$ segments.  \n",
    "Let $a_{0} = w_{0} = w_{n} = 0$, $a_{n+1} = 100$.\n",
    "Then, for $1 \\leq i \\leq n$, $m_{i} = (w_{i}-w_{i-1})/(a_{i}-a_{i-1})$, $q_{i} = (w_{i-1}a_{i} - w_{i}a_{i-1})/(a_{i}-a_{i-1})$, and the normalization is $(1/2)\\sum_{i=1}^{n}w_{i}(a_{i+1}-a_{i-1})$."
   ]
  },
  {
   "cell_type": "code",
   "execution_count": 2,
   "metadata": {},
   "outputs": [],
   "source": [
    "vector<pair<double,double>> pop; // population pyramid\n",
    "\n",
    "// population distribution parameters\n",
    "vector<double> slopes;\n",
    "vector<double> intercepts;\n",
    "double pop_norm;\n",
    "\n",
    "// create actual distribution\n",
    "TF1 fpop(\"fpop\", [&](double *x, double *p){ \n",
    "    double age = x[0];\n",
    "    int i = distance(begin(pop),\n",
    "                     lower_bound(begin(pop), end(pop), age, [](auto a, auto b) { \n",
    "                         return a.first < b; \n",
    "                     }));\n",
    "    double y = slopes[i]*age + intercepts[i];\n",
    "    return y / pop_norm;\n",
    "}, 0, 100, 0);"
   ]
  },
  {
   "cell_type": "code",
   "execution_count": 3,
   "metadata": {},
   "outputs": [],
   "source": [
    "pop = { {5,1}, {50,2}, {80,1} };"
   ]
  },
  {
   "cell_type": "code",
   "execution_count": 4,
   "metadata": {},
   "outputs": [],
   "source": [
    "// compute distribution parameters\n",
    "{\n",
    "    slopes.clear();\n",
    "    intercepts.clear();\n",
    "    pop_norm = 0;\n",
    "\n",
    "    // extended population buffer\n",
    "    auto pop_buf = pop;\n",
    "    pop_buf.insert(begin(pop_buf), {0, 0});\n",
    "    pop_buf.push_back({100, 0});\n",
    "    \n",
    "    for (int i = 1; i < pop_buf.size(); ++i) {\n",
    "        auto &pp = pop_buf[i-1];\n",
    "        auto &p  = pop_buf[i];\n",
    "        auto &pn = pop_buf[i+1];\n",
    "        \n",
    "        slopes.push_back((p.second - pp.second) / (p.first - pp.first));\n",
    "        intercepts.push_back((pp.second*p.first - p.second*pp.first) / (p.first - pp.first));\n",
    "        pop_norm += p.second*(pn.first - pp.first);\n",
    "    }\n",
    "    pop_norm /= 2;\n",
    "}"
   ]
  },
  {
   "cell_type": "code",
   "execution_count": 5,
   "metadata": {
    "scrolled": false
   },
   "outputs": [
    {
     "data": {
      "text/html": [
       "\n",
       "<div id=\"root_plot_1\"\n",
       "     style=\"width: 696px; height: 472px\">\n",
       "</div>\n",
       "\n",
       "<script>\n",
       " requirejs.config({\n",
       "     paths: {\n",
       "       'JSRootCore' : 'https://root.cern.ch/js/notebook//scripts/JSRootCore',\n",
       "     }\n",
       "   });\n",
       " require(['JSRootCore'],\n",
       "     function(Core) {\n",
       "       var obj = Core.JSONR_unref({\"_typename\":\"TCanvas\",\"fUniqueID\":0,\"fBits\":53673992,\"fLineColor\":1,\"fLineStyle\":1,\"fLineWidth\":1,\"fFillColor\":0,\"fFillStyle\":1001,\"fLeftMargin\":0.1,\"fRightMargin\":0.1,\"fBottomMargin\":0.1,\"fTopMargin\":0.1,\"fXfile\":2,\"fYfile\":2,\"fAfile\":1,\"fXstat\":0.99,\"fYstat\":0.99,\"fAstat\":2,\"fFrameFillColor\":0,\"fFrameLineColor\":1,\"fFrameFillStyle\":1001,\"fFrameLineStyle\":1,\"fFrameLineWidth\":1,\"fFrameBorderSize\":1,\"fFrameBorderMode\":0,\"fX1\":-12.5000009313226,\"fY1\":-203.242880031531,\"fX2\":112.500000931323,\"fY2\":8860.68538003153,\"fXtoAbsPixelk\":69.6000541484835,\"fXtoPixelk\":69.6000541484835,\"fXtoPixel\":5.56799991703033,\"fYtoAbsPixelk\":461.416268153715,\"fYtoPixelk\":461.416268153715,\"fYtoPixel\":-0.0520745516135314,\"fUtoAbsPixelk\":5e-5,\"fUtoPixelk\":5e-5,\"fUtoPixel\":696,\"fVtoAbsPixelk\":472.00005,\"fVtoPixelk\":472,\"fVtoPixel\":-472,\"fAbsPixeltoXk\":-12.5000009313226,\"fPixeltoXk\":-12.5000009313226,\"fPixeltoX\":0.17959770382564,\"fAbsPixeltoYk\":8860.68538003153,\"fPixeltoYk\":-203.242880031531,\"fPixeltoY\":-19.2032378391167,\"fXlowNDC\":0,\"fYlowNDC\":0,\"fXUpNDC\":0,\"fYUpNDC\":0,\"fWNDC\":1,\"fHNDC\":1,\"fAbsXlowNDC\":0,\"fAbsYlowNDC\":0,\"fAbsWNDC\":1,\"fAbsHNDC\":1,\"fUxmin\":0,\"fUymin\":703.15,\"fUxmax\":100,\"fUymax\":7954.2925,\"fTheta\":30,\"fPhi\":30,\"fAspectRatio\":0,\"fNumber\":0,\"fTickx\":0,\"fTicky\":0,\"fLogx\":0,\"fLogy\":0,\"fLogz\":0,\"fPadPaint\":0,\"fCrosshair\":0,\"fCrosshairPos\":0,\"fBorderSize\":2,\"fBorderMode\":0,\"fModified\":false,\"fGridx\":true,\"fGridy\":true,\"fAbsCoord\":false,\"fEditable\":true,\"fFixedAspectRatio\":false,\"fPrimitives\":{\"_typename\":\"TList\",\"name\":\"TList\",\"arr\":[{\"_typename\":\"TFrame\",\"fUniqueID\":0,\"fBits\":50331656,\"fLineColor\":1,\"fLineStyle\":1,\"fLineWidth\":1,\"fFillColor\":0,\"fFillStyle\":1001,\"fX1\":0,\"fY1\":703.15,\"fX2\":100,\"fY2\":7954.2925,\"fBorderSize\":1,\"fBorderMode\":0},{\"_typename\":\"TH1F\",\"fUniqueID\":0,\"fBits\":50331656,\"fName\":\"h_pop\",\"fTitle\":\"Population pyramid distribution\",\"fLineColor\":602,\"fLineStyle\":1,\"fLineWidth\":1,\"fFillColor\":600,\"fFillStyle\":1001,\"fMarkerColor\":1,\"fMarkerStyle\":1,\"fMarkerSize\":1,\"fNcells\":12,\"fXaxis\":{\"_typename\":\"TAxis\",\"fUniqueID\":0,\"fBits\":50331648,\"fName\":\"xaxis\",\"fTitle\":\"Age [years]\",\"fNdivisions\":510,\"fAxisColor\":1,\"fLabelColor\":1,\"fLabelFont\":42,\"fLabelOffset\":0.005,\"fLabelSize\":0.035,\"fTickLength\":0.03,\"fTitleOffset\":1,\"fTitleSize\":0.035,\"fTitleColor\":1,\"fTitleFont\":42,\"fNbins\":10,\"fXmin\":0,\"fXmax\":100,\"fXbins\":[],\"fFirst\":0,\"fLast\":0,\"fBits2\":0,\"fTimeDisplay\":false,\"fTimeFormat\":\"\",\"fLabels\":null,\"fModLabs\":null},\"fYaxis\":{\"_typename\":\"TAxis\",\"fUniqueID\":0,\"fBits\":50331648,\"fName\":\"yaxis\",\"fTitle\":\"Number of people\",\"fNdivisions\":510,\"fAxisColor\":1,\"fLabelColor\":1,\"fLabelFont\":42,\"fLabelOffset\":0.005,\"fLabelSize\":0.035,\"fTickLength\":0.03,\"fTitleOffset\":0,\"fTitleSize\":0.035,\"fTitleColor\":1,\"fTitleFont\":42,\"fNbins\":1,\"fXmin\":0,\"fXmax\":1,\"fXbins\":[],\"fFirst\":0,\"fLast\":0,\"fBits2\":0,\"fTimeDisplay\":false,\"fTimeFormat\":\"\",\"fLabels\":null,\"fModLabs\":null},\"fZaxis\":{\"_typename\":\"TAxis\",\"fUniqueID\":0,\"fBits\":50331648,\"fName\":\"zaxis\",\"fTitle\":\"\",\"fNdivisions\":510,\"fAxisColor\":1,\"fLabelColor\":1,\"fLabelFont\":42,\"fLabelOffset\":0.005,\"fLabelSize\":0.035,\"fTickLength\":0.03,\"fTitleOffset\":1,\"fTitleSize\":0.035,\"fTitleColor\":1,\"fTitleFont\":42,\"fNbins\":1,\"fXmin\":0,\"fXmax\":1,\"fXbins\":[],\"fFirst\":0,\"fLast\":0,\"fBits2\":0,\"fTimeDisplay\":false,\"fTimeFormat\":\"\",\"fLabels\":null,\"fModLabs\":null},\"fBarOffset\":100,\"fBarWidth\":800,\"fEntries\":50000,\"fTsumw\":50000,\"fTsumw2\":50000,\"fTsumwx\":2298465.47956014,\"fTsumwx2\":132969696.707669,\"fMaximum\":-1111,\"fMinimum\":-1111,\"fNormFactor\":0,\"fContour\":[],\"fSumw2\":[],\"fOption\":\"\",\"fFunctions\":{\"_typename\":\"TList\",\"name\":\"TList\",\"arr\":[{\"_typename\":\"TPaveStats\",\"fUniqueID\":0,\"fBits\":50331657,\"fLineColor\":1,\"fLineStyle\":1,\"fLineWidth\":1,\"fFillColor\":0,\"fFillStyle\":1001,\"fX1\":85.0000025331975,\"fY1\":6821.30157554256,\"fX2\":110.000003278256,\"fY2\":8271.53006473752,\"fX1NDC\":0.780000016093254,\"fY1NDC\":0.775000005960464,\"fX2NDC\":0.980000019073486,\"fY2NDC\":0.935000002384186,\"fBorderSize\":1,\"fInit\":1,\"fShadowColor\":1,\"fCornerRadius\":0,\"fOption\":\"brNDC\",\"fName\":\"stats\",\"fTextAngle\":0,\"fTextSize\":0,\"fTextAlign\":12,\"fTextColor\":1,\"fTextFont\":42,\"fLabel\":\"\",\"fLongest\":18,\"fMargin\":0.05,\"fLines\":{\"_typename\":\"TList\",\"name\":\"TList\",\"arr\":[{\"_typename\":\"TLatex\",\"fUniqueID\":0,\"fBits\":50331648,\"fName\":\"\",\"fTitle\":\"h_pop\",\"fTextAngle\":0,\"fTextSize\":0.0368,\"fTextAlign\":0,\"fTextColor\":0,\"fTextFont\":0,\"fX\":0,\"fY\":0,\"fLineColor\":1,\"fLineStyle\":1,\"fLineWidth\":2,\"fLimitFactorSize\":3,\"fOriginSize\":0.0368000008165836},{\"_typename\":\"TLatex\",\"fUniqueID\":0,\"fBits\":50331648,\"fName\":\"\",\"fTitle\":\"Entries = 50000  \",\"fTextAngle\":0,\"fTextSize\":0,\"fTextAlign\":0,\"fTextColor\":0,\"fTextFont\":0,\"fX\":0,\"fY\":0,\"fLineColor\":1,\"fLineStyle\":1,\"fLineWidth\":2,\"fLimitFactorSize\":3,\"fOriginSize\":0.04},{\"_typename\":\"TLatex\",\"fUniqueID\":0,\"fBits\":50331648,\"fName\":\"\",\"fTitle\":\"Mean  =  45.97\",\"fTextAngle\":0,\"fTextSize\":0,\"fTextAlign\":0,\"fTextColor\":0,\"fTextFont\":0,\"fX\":0,\"fY\":0,\"fLineColor\":1,\"fLineStyle\":1,\"fLineWidth\":2,\"fLimitFactorSize\":3,\"fOriginSize\":0.04},{\"_typename\":\"TLatex\",\"fUniqueID\":0,\"fBits\":50331648,\"fName\":\"\",\"fTitle\":\"Std Dev   =  23.37\",\"fTextAngle\":0,\"fTextSize\":0,\"fTextAlign\":0,\"fTextColor\":0,\"fTextFont\":0,\"fX\":0,\"fY\":0,\"fLineColor\":1,\"fLineStyle\":1,\"fLineWidth\":2,\"fLimitFactorSize\":3,\"fOriginSize\":0.04}],\"opt\":[\"\",\"\",\"\",\"\"]},\"fOptFit\":0,\"fOptStat\":1111,\"fFitFormat\":\"5.4g\",\"fStatFormat\":\"6.4g\",\"fParent\":{\"$ref\":3}}],\"opt\":[\"brNDC\"]},\"fBufferSize\":0,\"fBuffer\":[],\"fBinStatErrOpt\":0,\"fStatOverflows\":2,\"fArray\":[0,3112,4912,5741,6669,7609,7458,5813,4691,2963,1032,0]},{\"_typename\":\"TF1\",\"fUniqueID\":0,\"fBits\":33554440,\"fName\":\"fpop\",\"fTitle\":\"fpop\",\"fLineColor\":2,\"fLineStyle\":1,\"fLineWidth\":2,\"fFillColor\":19,\"fFillStyle\":0,\"fMarkerColor\":1,\"fMarkerStyle\":1,\"fMarkerSize\":1,\"fXmin\":0,\"fXmax\":100,\"fNpar\":0,\"fNdim\":1,\"fNpx\":100,\"fType\":4,\"fNpfits\":0,\"fNDF\":0,\"fChisquare\":0,\"fMinimum\":-1111,\"fMaximum\":-1111,\"fParErrors\":[],\"fParMin\":[],\"fParMax\":[],\"fSave\":[0,760.900000014389,1521.80000002878,2282.70000004317,3043.60000005756,3804.50000007194,3889.04444451799,3973.58888896403,4058.13333341007,4142.67777785612,4227.22222230216,4311.7666667482,4396.31111119425,4480.85555564029,4565.40000008633,4649.94444453238,4734.48888897842,4819.03333342446,4903.57777787051,4988.12222231655,5072.66666676259,5157.21111120864,5241.75555565468,5326.30000010072,5410.84444454676,5495.38888899281,5579.93333343885,5664.47777788489,5749.02222233094,5833.56666677698,5918.11111122302,6002.65555566907,6087.20000011511,6171.74444456115,6256.2888890072,6340.83333345324,6425.37777789928,6509.92222234533,6594.46666679137,6679.01111123741,6763.55555568346,6848.1000001295,6932.64444457554,7017.18888902159,7101.73333346763,7186.27777791367,7270.82222235972,7355.36666680576,7439.9111112518,7524.45555569785,7609.00000014389,7482.18333347482,7355.36666680576,7228.55000013669,7101.73333346763,6974.91666679856,6848.1000001295,6721.28333346043,6594.46666679137,6467.6500001223,6340.83333345324,6214.01666678418,6087.20000011511,5960.38333344605,5833.56666677698,5706.75000010792,5579.93333343885,5453.11666676979,5326.30000010072,5199.48333343166,5072.66666676259,4945.85000009353,4819.03333342446,4692.2166667554,4565.40000008633,4438.58333341727,4311.7666667482,4184.95000007914,4058.13333341007,3931.31666674101,3804.50000007194,3614.27500006835,3424.05000006475,3233.82500006115,3043.60000005756,2853.37500005396,2663.15000005036,2472.92500004676,2282.70000004317,2092.47500003957,1902.25000003597,1712.02500003238,1521.80000002878,1331.57500002518,1141.35000002158,951.125000017986,760.900000014386,570.67500001079,380.450000007193,190.225000003597,0,0,100],\"fNormalized\":false,\"fNormIntegral\":0,\"fFormula\":null,\"fParams\":{\"_typename\":\"TF1Parameters\",\"fParameters\":[],\"fParNames\":[]},\"fComposition_ptr\":null},{\"_typename\":\"TPaveText\",\"fUniqueID\":0,\"fBits\":50331657,\"fLineColor\":1,\"fLineStyle\":1,\"fLineWidth\":1,\"fFillColor\":0,\"fFillStyle\":0,\"fX1\":16.2428155889328,\"fY1\":8262.31253218483,\"fX2\":83.7571844110672,\"fY2\":8815.36578195139,\"fX1NDC\":0.229942528735632,\"fY1NDC\":0.933983055615829,\"fX2NDC\":0.770057471264368,\"fY2NDC\":0.995000004768372,\"fBorderSize\":0,\"fInit\":1,\"fShadowColor\":1,\"fCornerRadius\":0,\"fOption\":\"blNDC\",\"fName\":\"title\",\"fTextAngle\":0,\"fTextSize\":0,\"fTextAlign\":22,\"fTextColor\":1,\"fTextFont\":42,\"fLabel\":\"\",\"fLongest\":31,\"fMargin\":0.05,\"fLines\":{\"_typename\":\"TList\",\"name\":\"TList\",\"arr\":[{\"_typename\":\"TLatex\",\"fUniqueID\":0,\"fBits\":50331648,\"fName\":\"\",\"fTitle\":\"Population pyramid distribution\",\"fTextAngle\":0,\"fTextSize\":0,\"fTextAlign\":0,\"fTextColor\":0,\"fTextFont\":0,\"fX\":0,\"fY\":0,\"fLineColor\":1,\"fLineStyle\":1,\"fLineWidth\":2,\"fLimitFactorSize\":3,\"fOriginSize\":0.0518644079566002}],\"opt\":[\"\"]}}],\"opt\":[\"\",\"bar\",\"SAME\",\"blNDC\"]},\"fExecs\":null,\"fName\":\"c1\",\"fTitle\":\"c1\",\"fNumPaletteColor\":0,\"fNextPaletteColor\":0,\"fDISPLAY\":\"$DISPLAY\",\"fDoubleBuffer\":0,\"fRetained\":true,\"fXsizeUser\":0,\"fYsizeUser\":0,\"fXsizeReal\":20,\"fYsizeReal\":14.28571,\"fWindowTopX\":0,\"fWindowTopY\":0,\"fWindowWidth\":0,\"fWindowHeight\":0,\"fCw\":696,\"fCh\":472,\"fCatt\":{\"_typename\":\"TAttCanvas\",\"fXBetween\":2,\"fYBetween\":2,\"fTitleFromTop\":1.2,\"fXdate\":0.2,\"fYdate\":0.3,\"fAdate\":1},\"kMoveOpaque\":true,\"kResizeOpaque\":true,\"fHighLightColor\":2,\"fBatch\":true,\"kShowEventStatus\":false,\"kAutoExec\":true,\"kMenuBar\":true});\n",
       "       Core.draw(\"root_plot_1\", obj, \"\");\n",
       "     }\n",
       " );\n",
       "</script>\n"
      ],
      "text/plain": [
       "<IPython.core.display.HTML object>"
      ]
     },
     "metadata": {},
     "output_type": "display_data"
    }
   ],
   "source": [
    "{\n",
    "    new TCanvas;\n",
    "    TH1F *h_pop = new TH1F(\"h_pop\", \"Population pyramid distribution;Age [years];Number of people\", 10, 0, 100);\n",
    "    h_pop->FillRandom(\"fpop\", 5e4);\n",
    "    h_pop->SetFillColor(kBlue);\n",
    "    h_pop->SetBarWidth(0.8);\n",
    "    h_pop->SetBarOffset(0.1);\n",
    "    h_pop->Draw(\"bar\");\n",
    "    pop_norm /= h_pop->GetMaximum()/fpop.GetMaximum();\n",
    "    fpop.Draw(\"SAME\");\n",
    "    gPad->SetGrid();\n",
    "    gPad->Draw();\n",
    "}"
   ]
  },
  {
   "cell_type": "code",
   "execution_count": null,
   "metadata": {},
   "outputs": [],
   "source": []
  }
 ],
 "metadata": {
  "kernelspec": {
   "display_name": "ROOT C++",
   "language": "c++",
   "name": "root"
  },
  "language_info": {
   "codemirror_mode": "text/x-c++src",
   "file_extension": ".C",
   "mimetype": " text/x-c++src",
   "name": "c++"
  },
  "latex_envs": {
   "LaTeX_envs_menu_present": true,
   "autoclose": true,
   "autocomplete": true,
   "bibliofile": "biblio.bib",
   "cite_by": "apalike",
   "current_citInitial": 1,
   "eqLabelWithNumbers": true,
   "eqNumInitial": 1,
   "hotkeys": {
    "equation": "Ctrl-E",
    "itemize": "Ctrl-I"
   },
   "labels_anchors": false,
   "latex_user_defs": false,
   "report_style_numbering": true,
   "user_envs_cfg": false
  }
 },
 "nbformat": 4,
 "nbformat_minor": 2
}
